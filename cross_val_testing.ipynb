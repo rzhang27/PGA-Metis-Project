{
 "cells": [
  {
   "cell_type": "code",
   "execution_count": 1,
   "metadata": {},
   "outputs": [],
   "source": [
    "import pandas as pd\n",
    "import numpy as np\n",
    "import pickle\n",
    "import seaborn as sns\n",
    "import matplotlib.pyplot as plt\n",
    "%matplotlib inline\n",
    "\n",
    "from sklearn.model_selection import train_test_split, KFold, cross_val_score\n",
    "from sklearn.linear_model import LinearRegression, Ridge, Lasso, LassoCV\n",
    "from sklearn.preprocessing import StandardScaler, PolynomialFeatures\n",
    "from sklearn.metrics import r2_score, mean_squared_error\n",
    "import math\n",
    "\n",
    "with open('pga.pickle', 'rb') as file:\n",
    "    g = pickle.load(file)\n",
    "\n",
    "#Log Transform on 'money'\n",
    "g['logmoney'] = g['money'].apply(lambda x: math.log(x)) "
   ]
  },
  {
   "cell_type": "code",
   "execution_count": 2,
   "metadata": {},
   "outputs": [],
   "source": [
    "#For All minus obvious features\n",
    "g_small = g.drop(['Average Score', 'Points', 'Top 10', 'Average SG Total', 'Year','name'], axis=1)\n",
    "\n",
    "#For All minus obvious features AND minus more features based on lasso and ridge\n",
    "g_smaller = g.drop(['Avg Distance','height_inches', 'weight_lbs', 'Fairway Percentage','Average Score', 'Points', 'Top 10', 'Average SG Total', 'Year','name'], axis=1)\n",
    "\n",
    "#no SG features\n",
    "g_noSG = g.drop(['Average Score', 'Points', 'Top 10', 'Average SG Total', 'Year','name', 'Average SG Putts', 'SG:OTT', 'SG:APR','SG:ARG'], axis=1)\n",
    "\n",
    "#only SG features\n",
    "g_onlySG = g[['logmoney','money','Rounds','Average SG Putts','SG:OTT','SG:APR','SG:ARG']]\n",
    "\n",
    "#SG without rounds\n",
    "g_pureSG = g[['logmoney','money','Average SG Putts','SG:OTT','SG:APR','SG:ARG']]"
   ]
  },
  {
   "cell_type": "code",
   "execution_count": 3,
   "metadata": {},
   "outputs": [],
   "source": [
    "#Cross Validation Test RIDGE NOT SCALED\n",
    "def cv_r2_scores(df, r_alpha):\n",
    "\n",
    "    X, y = df.drop(['logmoney','money'], axis=1), df['logmoney']\n",
    "\n",
    "    X, X_test, y, y_test = train_test_split(X, y, test_size=.2, random_state=1)\n",
    "\n",
    "    X, y = np.array(X), np.array(y)\n",
    "\n",
    "    ###\n",
    "\n",
    "    lm = LinearRegression()\n",
    "    lm_reg = Ridge(alpha=r_alpha)\n",
    "\n",
    "    kf = KFold(n_splits=5, shuffle=True, random_state = 10)\n",
    "    cvs = cross_val_score(lm, X, y, cv=kf, scoring='r2')\n",
    "    cvs_ridge = cross_val_score(lm_reg, X, y, cv=kf, scoring='r2')\n",
    "\n",
    "    print('cross validation scores simple: ', cvs)\n",
    "    print('cross validation scores ridge: ', cvs_ridge)\n",
    "\n",
    "    print('mean c_v_s score simple reg: ', np.mean(cvs))\n",
    "    print('mean c_v_s score ridge: ', np.mean(cvs_ridge))"
   ]
  },
  {
   "cell_type": "code",
   "execution_count": 4,
   "metadata": {},
   "outputs": [],
   "source": [
    "#CV Test with errors Ridge SCALED and poly 2\n",
    "def cv_errors(df, r_alpha):\n",
    "\n",
    "    X, y = df.drop(['logmoney','money'], axis=1), df['logmoney']\n",
    "\n",
    "    X, X_test, y, y_test = train_test_split(X, y, test_size=.2, random_state=1)\n",
    "\n",
    "    X, y = np.array(X), np.array(y)\n",
    "\n",
    "    ###\n",
    "\n",
    "    kf = KFold(n_splits=5, shuffle=True, random_state = 10)\n",
    "    cv_lm_r2s, cv_lm_reg_r2s, cv_poly_r2s = [], [], []\n",
    "    lm_train, lm_reg_train, poly_train = [], [], []\n",
    "\n",
    "    for train_ind, val_ind in kf.split(X,y):\n",
    "        \n",
    "        X_train, y_train = X[train_ind], y[train_ind]\n",
    "        X_val, y_val = X[val_ind], y[val_ind] \n",
    "        \n",
    "        #simple linear regression\n",
    "        lm = LinearRegression()\n",
    "\n",
    "        lm.fit(X_train, y_train)\n",
    "        cv_lm_r2s.append(lm.score(X_val, y_val))\n",
    "        lm_train.append(lm.score(X_train, y_train))\n",
    "\n",
    "        #ridge with feature scaling\n",
    "        lm_reg = Ridge(alpha=r_alpha)\n",
    "        scaler = StandardScaler()\n",
    "        X_train_scaled = scaler.fit_transform(X_train)\n",
    "        X_val_scaled = scaler.transform(X_val)\n",
    "        \n",
    "        lm_reg.fit(X_train_scaled, y_train)\n",
    "        cv_lm_reg_r2s.append(lm_reg.score(X_val_scaled, y_val))\n",
    "        lm_reg_train.append(lm_reg.score(X_train_scaled, y_train))\n",
    "\n",
    "        #polynomial regression with degree 2\n",
    "        poly = PolynomialFeatures(degree=2)\n",
    "        X_train_poly = poly.fit_transform(X_train)\n",
    "        X_val_poly = poly.transform(X_val)\n",
    "        lm_poly = LinearRegression()\n",
    "        lm_poly.fit(X_train_poly, y_train)\n",
    "        cv_poly_r2s.append(lm_poly.score(X_val_poly, y_val))\n",
    "        poly_train.append(lm_poly.score(X_train_poly, y_train))\n",
    "\n",
    "    print(f'Simple mean train R^2: {np.mean(lm_train):.3f} +- {np.std(lm_train):.3f}')\n",
    "    print(f'Simple mean cv R^2: {np.mean(cv_lm_r2s):.3f} +- {np.std(cv_lm_r2s):.3f}')\n",
    "    print('Simple rmse: ', math.sqrt(mean_squared_error(y_val, lm.predict(X_val))))\n",
    "\n",
    "    print(f'Ridge scaled mean train R^2: {np.mean(lm_reg_train):.3f} +- {np.std(lm_reg_train):.3f}')\n",
    "    print(f'Ridge scaled mean cv R^2: {np.mean(cv_lm_reg_r2s):.3f} +- {np.std(cv_lm_reg_r2s):.3f}')\n",
    "    print('Ridge scaled rmse: ', math.sqrt(mean_squared_error(y_val, lm_reg.predict(X_val_scaled))))\n",
    "\n",
    "    print(f'Degree 2 polynomial regression train R^2: {np.mean(poly_train):.3f} +- {np.std(poly_train):.3f}')\n",
    "    print(f'Degree 2 polynomial regression cv R^2: {np.mean(cv_poly_r2s):.3f} +- {np.std(cv_poly_r2s):.3f}')\n",
    "    print('Degree 2 polynomial regression rmse: ', math.sqrt(mean_squared_error(y_val, lm_poly.predict(X_val_poly))))"
   ]
  },
  {
   "cell_type": "code",
   "execution_count": 5,
   "metadata": {},
   "outputs": [
    {
     "name": "stdout",
     "output_type": "stream",
     "text": [
      "cross validation scores simple:  [0.75407154 0.76844866 0.73560261 0.72601415 0.68754787]\n",
      "cross validation scores ridge:  [0.74715578 0.76467135 0.72178438 0.71175431 0.68038518]\n",
      "mean c_v_s score simple reg:  0.7343369658672234\n",
      "mean c_v_s score ridge:  0.7251502005196382\n"
     ]
    }
   ],
   "source": [
    "cv_r2_scores(g_small, 10)"
   ]
  },
  {
   "cell_type": "code",
   "execution_count": 6,
   "metadata": {},
   "outputs": [
    {
     "name": "stdout",
     "output_type": "stream",
     "text": [
      "Simple mean train R^2: 0.746 +- 0.007\n",
      "Simple mean cv R^2: 0.734 +- 0.028\n",
      "Simple rmse:  0.48010613185772383\n",
      "Ridge scaled mean train R^2: 0.733 +- 0.007\n",
      "Ridge scaled mean cv R^2: 0.724 +- 0.029\n",
      "Ridge scaled rmse:  0.48376143031988245\n",
      "Degree 2 polynomial regression train R^2: 0.784 +- 0.007\n",
      "Degree 2 polynomial regression cv R^2: 0.710 +- 0.025\n",
      "Degree 2 polynomial regression rmse:  0.49010910940058366\n"
     ]
    }
   ],
   "source": [
    "cv_errors(g_small, 100)"
   ]
  },
  {
   "cell_type": "code",
   "execution_count": 7,
   "metadata": {},
   "outputs": [
    {
     "name": "stdout",
     "output_type": "stream",
     "text": [
      "Simple mean train R^2: 0.743 +- 0.007\n",
      "Simple mean cv R^2: 0.732 +- 0.028\n",
      "Simple rmse:  0.48218769836339914\n",
      "Ridge scaled mean train R^2: 0.731 +- 0.007\n",
      "Ridge scaled mean cv R^2: 0.722 +- 0.029\n",
      "Ridge scaled rmse:  0.4843210511394871\n",
      "Degree 2 polynomial regression train R^2: 0.296 +- 0.729\n",
      "Degree 2 polynomial regression cv R^2: 0.152 +- 0.876\n",
      "Degree 2 polynomial regression rmse:  0.467264062627119\n"
     ]
    }
   ],
   "source": [
    "cv_errors(g_smaller, 100)"
   ]
  },
  {
   "cell_type": "code",
   "execution_count": 8,
   "metadata": {},
   "outputs": [
    {
     "name": "stdout",
     "output_type": "stream",
     "text": [
      "Simple mean train R^2: 0.521 +- 0.012\n",
      "Simple mean cv R^2: 0.503 +- 0.048\n",
      "Simple rmse:  0.648791383812396\n",
      "Ridge scaled mean train R^2: 0.507 +- 0.012\n",
      "Ridge scaled mean cv R^2: 0.493 +- 0.030\n",
      "Ridge scaled rmse:  0.6390264226126913\n",
      "Degree 2 polynomial regression train R^2: 0.565 +- 0.008\n",
      "Degree 2 polynomial regression cv R^2: 0.485 +- 0.037\n",
      "Degree 2 polynomial regression rmse:  0.6527090722396075\n"
     ]
    }
   ],
   "source": [
    "cv_errors(g_noSG, 100)"
   ]
  },
  {
   "cell_type": "code",
   "execution_count": 9,
   "metadata": {},
   "outputs": [
    {
     "name": "stdout",
     "output_type": "stream",
     "text": [
      "Simple mean train R^2: 0.705 +- 0.009\n",
      "Simple mean cv R^2: 0.698 +- 0.038\n",
      "Simple rmse:  0.5202901832780181\n",
      "Ridge scaled mean train R^2: 0.700 +- 0.009\n",
      "Ridge scaled mean cv R^2: 0.693 +- 0.037\n",
      "Ridge scaled rmse:  0.5186963987162678\n",
      "Degree 2 polynomial regression train R^2: 0.726 +- 0.009\n",
      "Degree 2 polynomial regression cv R^2: 0.708 +- 0.035\n",
      "Degree 2 polynomial regression rmse:  0.5066206797122699\n"
     ]
    }
   ],
   "source": [
    "cv_errors(g_onlySG, 100)"
   ]
  },
  {
   "cell_type": "code",
   "execution_count": 10,
   "metadata": {},
   "outputs": [
    {
     "name": "stdout",
     "output_type": "stream",
     "text": [
      "Simple mean train R^2: 0.670 +- 0.007\n",
      "Simple mean cv R^2: 0.663 +- 0.025\n",
      "Simple rmse:  0.5214598930535597\n",
      "Ridge scaled mean train R^2: 0.663 +- 0.007\n",
      "Ridge scaled mean cv R^2: 0.657 +- 0.029\n",
      "Ridge scaled rmse:  0.5222641925338288\n",
      "Degree 2 polynomial regression train R^2: 0.681 +- 0.008\n",
      "Degree 2 polynomial regression cv R^2: 0.664 +- 0.028\n",
      "Degree 2 polynomial regression rmse:  0.523526182295077\n"
     ]
    }
   ],
   "source": [
    "cv_errors(g_pureSG, 100)"
   ]
  },
  {
   "cell_type": "markdown",
   "metadata": {},
   "source": [
    "***\n",
    "Simple linear regression is best model with g_small, now test set"
   ]
  },
  {
   "cell_type": "code",
   "execution_count": 11,
   "metadata": {},
   "outputs": [
    {
     "name": "stdout",
     "output_type": "stream",
     "text": [
      "Simple mean train r^2: 0.746 +- 0.007\n",
      "Simple mean cv r^2: 0.734 +- 0.028\n",
      "Simple rmse:  0.48010613185772383\n",
      "Simple Regression test R^2: 0.7492495000806545\n"
     ]
    }
   ],
   "source": [
    "X, y = g_small.drop(['logmoney','money'], axis=1), g_small['logmoney']\n",
    "\n",
    "X, X_test, y, y_test = train_test_split(X, y, test_size=.2, random_state=1)\n",
    "\n",
    "X, y = np.array(X), np.array(y)\n",
    "\n",
    "\n",
    "kf = KFold(n_splits=5, shuffle=True, random_state = 10)\n",
    "cv_lm_r2s, cv_lm_reg_r2s = [], [] \n",
    "lm_train, lm_reg_train = [], []\n",
    "\n",
    "for train_ind, val_ind in kf.split(X,y):\n",
    "        \n",
    "    X_train, y_train = X[train_ind], y[train_ind]\n",
    "    X_val, y_val = X[val_ind], y[val_ind] \n",
    "        \n",
    "    #simple linear regression\n",
    "    lm = LinearRegression()\n",
    "\n",
    "    lm.fit(X_train, y_train)\n",
    "    cv_lm_r2s.append(lm.score(X_val, y_val))\n",
    "    lm_train.append(lm.score(X_train, y_train))\n",
    "\n",
    "print(f'Simple mean train r^2: {np.mean(lm_train):.3f} +- {np.std(lm_train):.3f}')\n",
    "print(f'Simple mean cv r^2: {np.mean(cv_lm_r2s):.3f} +- {np.std(cv_lm_r2s):.3f}')\n",
    "print('Simple rmse: ', math.sqrt(mean_squared_error(y_val, lm.predict(X_val))))\n",
    "print(f'Simple Regression test R^2: {lm.score(X_test, y_test)}')\n"
   ]
  },
  {
   "cell_type": "code",
   "execution_count": 12,
   "metadata": {},
   "outputs": [
    {
     "name": "stderr",
     "output_type": "stream",
     "text": [
      "/home/rob/anaconda3/lib/python3.7/site-packages/numpy/core/fromnumeric.py:2389: FutureWarning: Method .ptp is deprecated and will be removed in a future version. Use numpy.ptp instead.\n",
      "  return ptp(axis=axis, out=out, **kwargs)\n"
     ]
    },
    {
     "data": {
      "text/html": [
       "<table class=\"simpletable\">\n",
       "<caption>OLS Regression Results</caption>\n",
       "<tr>\n",
       "  <th>Dep. Variable:</th>        <td>logmoney</td>     <th>  R-squared:         </th> <td>   0.772</td>\n",
       "</tr>\n",
       "<tr>\n",
       "  <th>Model:</th>                   <td>OLS</td>       <th>  Adj. R-squared:    </th> <td>   0.761</td>\n",
       "</tr>\n",
       "<tr>\n",
       "  <th>Method:</th>             <td>Least Squares</td>  <th>  F-statistic:       </th> <td>   71.08</td>\n",
       "</tr>\n",
       "<tr>\n",
       "  <th>Date:</th>             <td>Thu, 18 Jul 2019</td> <th>  Prob (F-statistic):</th> <td>1.26e-79</td>\n",
       "</tr>\n",
       "<tr>\n",
       "  <th>Time:</th>                 <td>20:49:47</td>     <th>  Log-Likelihood:    </th> <td> -170.49</td>\n",
       "</tr>\n",
       "<tr>\n",
       "  <th>No. Observations:</th>      <td>   287</td>      <th>  AIC:               </th> <td>   369.0</td>\n",
       "</tr>\n",
       "<tr>\n",
       "  <th>Df Residuals:</th>          <td>   273</td>      <th>  BIC:               </th> <td>   420.2</td>\n",
       "</tr>\n",
       "<tr>\n",
       "  <th>Df Model:</th>              <td>    13</td>      <th>                     </th>     <td> </td>   \n",
       "</tr>\n",
       "<tr>\n",
       "  <th>Covariance Type:</th>      <td>nonrobust</td>    <th>                     </th>     <td> </td>   \n",
       "</tr>\n",
       "</table>\n",
       "<table class=\"simpletable\">\n",
       "<tr>\n",
       "           <td></td>             <th>coef</th>     <th>std err</th>      <th>t</th>      <th>P>|t|</th>  <th>[0.025</th>    <th>0.975]</th>  \n",
       "</tr>\n",
       "<tr>\n",
       "  <th>const</th>              <td>    0.2853</td> <td>   10.096</td> <td>    0.028</td> <td> 0.977</td> <td>  -19.591</td> <td>   20.162</td>\n",
       "</tr>\n",
       "<tr>\n",
       "  <th>height_inches</th>      <td>    0.0151</td> <td>    0.015</td> <td>    1.012</td> <td> 0.312</td> <td>   -0.014</td> <td>    0.044</td>\n",
       "</tr>\n",
       "<tr>\n",
       "  <th>weight_lbs</th>         <td>    0.0004</td> <td>    0.002</td> <td>    0.218</td> <td> 0.827</td> <td>   -0.003</td> <td>    0.004</td>\n",
       "</tr>\n",
       "<tr>\n",
       "  <th>birthyear</th>          <td>    0.0070</td> <td>    0.005</td> <td>    1.560</td> <td> 0.120</td> <td>   -0.002</td> <td>    0.016</td>\n",
       "</tr>\n",
       "<tr>\n",
       "  <th>Rounds</th>             <td>    0.0145</td> <td>    0.002</td> <td>    6.466</td> <td> 0.000</td> <td>    0.010</td> <td>    0.019</td>\n",
       "</tr>\n",
       "<tr>\n",
       "  <th>Fairway Percentage</th> <td>    0.0168</td> <td>    0.011</td> <td>    1.583</td> <td> 0.115</td> <td>   -0.004</td> <td>    0.038</td>\n",
       "</tr>\n",
       "<tr>\n",
       "  <th>Avg Distance</th>       <td>    0.0125</td> <td>    0.007</td> <td>    1.776</td> <td> 0.077</td> <td>   -0.001</td> <td>    0.026</td>\n",
       "</tr>\n",
       "<tr>\n",
       "  <th>gir</th>                <td>   -0.0489</td> <td>    0.023</td> <td>   -2.090</td> <td> 0.038</td> <td>   -0.095</td> <td>   -0.003</td>\n",
       "</tr>\n",
       "<tr>\n",
       "  <th>Average Putts</th>      <td>   -0.1637</td> <td>    0.130</td> <td>   -1.260</td> <td> 0.209</td> <td>   -0.420</td> <td>    0.092</td>\n",
       "</tr>\n",
       "<tr>\n",
       "  <th>Average Scrambling</th> <td>    0.0086</td> <td>    0.014</td> <td>    0.632</td> <td> 0.528</td> <td>   -0.018</td> <td>    0.035</td>\n",
       "</tr>\n",
       "<tr>\n",
       "  <th>Average SG Putts</th>   <td>    0.8830</td> <td>    0.130</td> <td>    6.811</td> <td> 0.000</td> <td>    0.628</td> <td>    1.138</td>\n",
       "</tr>\n",
       "<tr>\n",
       "  <th>SG:OTT</th>             <td>    1.0330</td> <td>    0.140</td> <td>    7.402</td> <td> 0.000</td> <td>    0.758</td> <td>    1.308</td>\n",
       "</tr>\n",
       "<tr>\n",
       "  <th>SG:APR</th>             <td>    1.1354</td> <td>    0.102</td> <td>   11.107</td> <td> 0.000</td> <td>    0.934</td> <td>    1.337</td>\n",
       "</tr>\n",
       "<tr>\n",
       "  <th>SG:ARG</th>             <td>    0.6353</td> <td>    0.179</td> <td>    3.545</td> <td> 0.000</td> <td>    0.283</td> <td>    0.988</td>\n",
       "</tr>\n",
       "</table>\n",
       "<table class=\"simpletable\">\n",
       "<tr>\n",
       "  <th>Omnibus:</th>       <td>10.399</td> <th>  Durbin-Watson:     </th> <td>   1.821</td>\n",
       "</tr>\n",
       "<tr>\n",
       "  <th>Prob(Omnibus):</th> <td> 0.006</td> <th>  Jarque-Bera (JB):  </th> <td>  10.491</td>\n",
       "</tr>\n",
       "<tr>\n",
       "  <th>Skew:</th>          <td> 0.452</td> <th>  Prob(JB):          </th> <td> 0.00527</td>\n",
       "</tr>\n",
       "<tr>\n",
       "  <th>Kurtosis:</th>      <td> 3.247</td> <th>  Cond. No.          </th> <td>7.67e+05</td>\n",
       "</tr>\n",
       "</table><br/><br/>Warnings:<br/>[1] Standard Errors assume that the covariance matrix of the errors is correctly specified.<br/>[2] The condition number is large, 7.67e+05. This might indicate that there are<br/>strong multicollinearity or other numerical problems."
      ],
      "text/plain": [
       "<class 'statsmodels.iolib.summary.Summary'>\n",
       "\"\"\"\n",
       "                            OLS Regression Results                            \n",
       "==============================================================================\n",
       "Dep. Variable:               logmoney   R-squared:                       0.772\n",
       "Model:                            OLS   Adj. R-squared:                  0.761\n",
       "Method:                 Least Squares   F-statistic:                     71.08\n",
       "Date:                Thu, 18 Jul 2019   Prob (F-statistic):           1.26e-79\n",
       "Time:                        20:49:47   Log-Likelihood:                -170.49\n",
       "No. Observations:                 287   AIC:                             369.0\n",
       "Df Residuals:                     273   BIC:                             420.2\n",
       "Df Model:                          13                                         \n",
       "Covariance Type:            nonrobust                                         \n",
       "======================================================================================\n",
       "                         coef    std err          t      P>|t|      [0.025      0.975]\n",
       "--------------------------------------------------------------------------------------\n",
       "const                  0.2853     10.096      0.028      0.977     -19.591      20.162\n",
       "height_inches          0.0151      0.015      1.012      0.312      -0.014       0.044\n",
       "weight_lbs             0.0004      0.002      0.218      0.827      -0.003       0.004\n",
       "birthyear              0.0070      0.005      1.560      0.120      -0.002       0.016\n",
       "Rounds                 0.0145      0.002      6.466      0.000       0.010       0.019\n",
       "Fairway Percentage     0.0168      0.011      1.583      0.115      -0.004       0.038\n",
       "Avg Distance           0.0125      0.007      1.776      0.077      -0.001       0.026\n",
       "gir                   -0.0489      0.023     -2.090      0.038      -0.095      -0.003\n",
       "Average Putts         -0.1637      0.130     -1.260      0.209      -0.420       0.092\n",
       "Average Scrambling     0.0086      0.014      0.632      0.528      -0.018       0.035\n",
       "Average SG Putts       0.8830      0.130      6.811      0.000       0.628       1.138\n",
       "SG:OTT                 1.0330      0.140      7.402      0.000       0.758       1.308\n",
       "SG:APR                 1.1354      0.102     11.107      0.000       0.934       1.337\n",
       "SG:ARG                 0.6353      0.179      3.545      0.000       0.283       0.988\n",
       "==============================================================================\n",
       "Omnibus:                       10.399   Durbin-Watson:                   1.821\n",
       "Prob(Omnibus):                  0.006   Jarque-Bera (JB):               10.491\n",
       "Skew:                           0.452   Prob(JB):                      0.00527\n",
       "Kurtosis:                       3.247   Cond. No.                     7.67e+05\n",
       "==============================================================================\n",
       "\n",
       "Warnings:\n",
       "[1] Standard Errors assume that the covariance matrix of the errors is correctly specified.\n",
       "[2] The condition number is large, 7.67e+05. This might indicate that there are\n",
       "strong multicollinearity or other numerical problems.\n",
       "\"\"\""
      ]
     },
     "execution_count": 12,
     "metadata": {},
     "output_type": "execute_result"
    }
   ],
   "source": [
    "import statsmodels.api as sm\n",
    "import statsmodels.formula.api as smf \n",
    "\n",
    "model = sm.OLS(y_test, sm.add_constant(X_test))\n",
    "results = model.fit()\n",
    "\n",
    "results.summary()"
   ]
  },
  {
   "cell_type": "markdown",
   "metadata": {},
   "source": [
    "Suspected multicollinearity due to overlapping categories, try onlySG"
   ]
  },
  {
   "cell_type": "code",
   "execution_count": 13,
   "metadata": {},
   "outputs": [
    {
     "name": "stdout",
     "output_type": "stream",
     "text": [
      "Simple mean train r^2: 0.670 +- 0.007\n",
      "Simple mean cv r^2: 0.663 +- 0.025\n",
      "Simple rmse:  0.5214598930535597\n",
      "Simple Regression test R^2: 0.7063710362547345\n"
     ]
    }
   ],
   "source": [
    "X, y = g_pureSG.drop(['logmoney','money'], axis=1), g_pureSG['logmoney']\n",
    "\n",
    "X, X_test, y, y_test = train_test_split(X, y, test_size=.2, random_state=1)\n",
    "\n",
    "X, y = np.array(X), np.array(y)\n",
    "\n",
    "\n",
    "kf = KFold(n_splits=5, shuffle=True, random_state = 10)\n",
    "cv_lm_r2s, cv_lm_reg_r2s = [], [] \n",
    "lm_train, lm_reg_train = [], []\n",
    "\n",
    "for train_ind, val_ind in kf.split(X,y):\n",
    "        \n",
    "    X_train, y_train = X[train_ind], y[train_ind]\n",
    "    X_val, y_val = X[val_ind], y[val_ind] \n",
    "        \n",
    "    #simple linear regression\n",
    "    lm = LinearRegression()\n",
    "\n",
    "    lm.fit(X_train, y_train)\n",
    "    cv_lm_r2s.append(lm.score(X_val, y_val))\n",
    "    lm_train.append(lm.score(X_train, y_train))\n",
    "\n",
    "print(f'Simple mean train r^2: {np.mean(lm_train):.3f} +- {np.std(lm_train):.3f}')\n",
    "print(f'Simple mean cv r^2: {np.mean(cv_lm_r2s):.3f} +- {np.std(cv_lm_r2s):.3f}')\n",
    "print('Simple rmse: ', math.sqrt(mean_squared_error(y_val, lm.predict(X_val))))\n",
    "print(f'Simple Regression test R^2: {lm.score(X_test, y_test)}')"
   ]
  },
  {
   "cell_type": "code",
   "execution_count": 14,
   "metadata": {},
   "outputs": [
    {
     "name": "stderr",
     "output_type": "stream",
     "text": [
      "/home/rob/anaconda3/lib/python3.7/site-packages/numpy/core/fromnumeric.py:2389: FutureWarning: Method .ptp is deprecated and will be removed in a future version. Use numpy.ptp instead.\n",
      "  return ptp(axis=axis, out=out, **kwargs)\n"
     ]
    },
    {
     "data": {
      "text/html": [
       "<table class=\"simpletable\">\n",
       "<caption>OLS Regression Results</caption>\n",
       "<tr>\n",
       "  <th>Dep. Variable:</th>        <td>logmoney</td>     <th>  R-squared:         </th> <td>   0.709</td>\n",
       "</tr>\n",
       "<tr>\n",
       "  <th>Model:</th>                   <td>OLS</td>       <th>  Adj. R-squared:    </th> <td>   0.705</td>\n",
       "</tr>\n",
       "<tr>\n",
       "  <th>Method:</th>             <td>Least Squares</td>  <th>  F-statistic:       </th> <td>   172.0</td>\n",
       "</tr>\n",
       "<tr>\n",
       "  <th>Date:</th>             <td>Thu, 18 Jul 2019</td> <th>  Prob (F-statistic):</th> <td>2.26e-74</td>\n",
       "</tr>\n",
       "<tr>\n",
       "  <th>Time:</th>                 <td>20:49:47</td>     <th>  Log-Likelihood:    </th> <td> -205.32</td>\n",
       "</tr>\n",
       "<tr>\n",
       "  <th>No. Observations:</th>      <td>   287</td>      <th>  AIC:               </th> <td>   420.6</td>\n",
       "</tr>\n",
       "<tr>\n",
       "  <th>Df Residuals:</th>          <td>   282</td>      <th>  BIC:               </th> <td>   438.9</td>\n",
       "</tr>\n",
       "<tr>\n",
       "  <th>Df Model:</th>              <td>     4</td>      <th>                     </th>     <td> </td>   \n",
       "</tr>\n",
       "<tr>\n",
       "  <th>Covariance Type:</th>      <td>nonrobust</td>    <th>                     </th>     <td> </td>   \n",
       "</tr>\n",
       "</table>\n",
       "<table class=\"simpletable\">\n",
       "<tr>\n",
       "          <td></td>            <th>coef</th>     <th>std err</th>      <th>t</th>      <th>P>|t|</th>  <th>[0.025</th>    <th>0.975]</th>  \n",
       "</tr>\n",
       "<tr>\n",
       "  <th>const</th>            <td>   13.6702</td> <td>    0.032</td> <td>  427.561</td> <td> 0.000</td> <td>   13.607</td> <td>   13.733</td>\n",
       "</tr>\n",
       "<tr>\n",
       "  <th>Average SG Putts</th> <td>    1.2303</td> <td>    0.087</td> <td>   14.133</td> <td> 0.000</td> <td>    1.059</td> <td>    1.402</td>\n",
       "</tr>\n",
       "<tr>\n",
       "  <th>SG:OTT</th>           <td>    1.1923</td> <td>    0.082</td> <td>   14.540</td> <td> 0.000</td> <td>    1.031</td> <td>    1.354</td>\n",
       "</tr>\n",
       "<tr>\n",
       "  <th>SG:APR</th>           <td>    1.0684</td> <td>    0.093</td> <td>   11.446</td> <td> 0.000</td> <td>    0.885</td> <td>    1.252</td>\n",
       "</tr>\n",
       "<tr>\n",
       "  <th>SG:ARG</th>           <td>    0.8210</td> <td>    0.152</td> <td>    5.416</td> <td> 0.000</td> <td>    0.523</td> <td>    1.119</td>\n",
       "</tr>\n",
       "</table>\n",
       "<table class=\"simpletable\">\n",
       "<tr>\n",
       "  <th>Omnibus:</th>       <td> 2.369</td> <th>  Durbin-Watson:     </th> <td>   1.747</td>\n",
       "</tr>\n",
       "<tr>\n",
       "  <th>Prob(Omnibus):</th> <td> 0.306</td> <th>  Jarque-Bera (JB):  </th> <td>   2.151</td>\n",
       "</tr>\n",
       "<tr>\n",
       "  <th>Skew:</th>          <td> 0.208</td> <th>  Prob(JB):          </th> <td>   0.341</td>\n",
       "</tr>\n",
       "<tr>\n",
       "  <th>Kurtosis:</th>      <td> 3.082</td> <th>  Cond. No.          </th> <td>    5.48</td>\n",
       "</tr>\n",
       "</table><br/><br/>Warnings:<br/>[1] Standard Errors assume that the covariance matrix of the errors is correctly specified."
      ],
      "text/plain": [
       "<class 'statsmodels.iolib.summary.Summary'>\n",
       "\"\"\"\n",
       "                            OLS Regression Results                            \n",
       "==============================================================================\n",
       "Dep. Variable:               logmoney   R-squared:                       0.709\n",
       "Model:                            OLS   Adj. R-squared:                  0.705\n",
       "Method:                 Least Squares   F-statistic:                     172.0\n",
       "Date:                Thu, 18 Jul 2019   Prob (F-statistic):           2.26e-74\n",
       "Time:                        20:49:47   Log-Likelihood:                -205.32\n",
       "No. Observations:                 287   AIC:                             420.6\n",
       "Df Residuals:                     282   BIC:                             438.9\n",
       "Df Model:                           4                                         \n",
       "Covariance Type:            nonrobust                                         \n",
       "====================================================================================\n",
       "                       coef    std err          t      P>|t|      [0.025      0.975]\n",
       "------------------------------------------------------------------------------------\n",
       "const               13.6702      0.032    427.561      0.000      13.607      13.733\n",
       "Average SG Putts     1.2303      0.087     14.133      0.000       1.059       1.402\n",
       "SG:OTT               1.1923      0.082     14.540      0.000       1.031       1.354\n",
       "SG:APR               1.0684      0.093     11.446      0.000       0.885       1.252\n",
       "SG:ARG               0.8210      0.152      5.416      0.000       0.523       1.119\n",
       "==============================================================================\n",
       "Omnibus:                        2.369   Durbin-Watson:                   1.747\n",
       "Prob(Omnibus):                  0.306   Jarque-Bera (JB):                2.151\n",
       "Skew:                           0.208   Prob(JB):                        0.341\n",
       "Kurtosis:                       3.082   Cond. No.                         5.48\n",
       "==============================================================================\n",
       "\n",
       "Warnings:\n",
       "[1] Standard Errors assume that the covariance matrix of the errors is correctly specified.\n",
       "\"\"\""
      ]
     },
     "execution_count": 14,
     "metadata": {},
     "output_type": "execute_result"
    }
   ],
   "source": [
    "import statsmodels.api as sm\n",
    "import statsmodels.formula.api as smf \n",
    "\n",
    "model = sm.OLS(y_test, sm.add_constant(X_test))\n",
    "results = model.fit()\n",
    "\n",
    "results.summary()"
   ]
  },
  {
   "cell_type": "code",
   "execution_count": 15,
   "metadata": {
    "scrolled": true
   },
   "outputs": [
    {
     "data": {
      "text/plain": [
       "[<matplotlib.lines.Line2D at 0x7fa4bd6d4860>]"
      ]
     },
     "execution_count": 15,
     "metadata": {},
     "output_type": "execute_result"
    },
    {
     "data": {
      "image/png": "[encoded data removed]",
      "text/plain": [
       "<Figure size 432x288 with 1 Axes>"
      ]
     },
     "metadata": {
      "needs_background": "light"
     },
     "output_type": "display_data"
    }
   ],
   "source": [
    "test_set_pred = lm.predict(X_test)\n",
    "plt.scatter(test_set_pred, y_test, alpha=.2)\n",
    "plt.plot(np.linspace(10,17,100), np.linspace(10,17,100))"
   ]
  },
  {
   "cell_type": "code",
   "execution_count": 16,
   "metadata": {},
   "outputs": [
    {
     "data": {
      "text/plain": [
       "array([1.11736743, 1.17599467, 1.03319072, 0.91226236])"
      ]
     },
     "execution_count": 16,
     "metadata": {},
     "output_type": "execute_result"
    }
   ],
   "source": [
    "lm.coef_"
   ]
  },
  {
   "cell_type": "code",
   "execution_count": 17,
   "metadata": {},
   "outputs": [
    {
     "data": {
      "text/html": [
       "<div>\n",
       "<style scoped>\n",
       "    .dataframe tbody tr th:only-of-type {\n",
       "        vertical-align: middle;\n",
       "    }\n",
       "\n",
       "    .dataframe tbody tr th {\n",
       "        vertical-align: top;\n",
       "    }\n",
       "\n",
       "    .dataframe thead th {\n",
       "        text-align: right;\n",
       "    }\n",
       "</style>\n",
       "<table border=\"1\" class=\"dataframe\">\n",
       "  <thead>\n",
       "    <tr style=\"text-align: right;\">\n",
       "      <th></th>\n",
       "      <th>money</th>\n",
       "      <th>name</th>\n",
       "      <th>height_inches</th>\n",
       "      <th>weight_lbs</th>\n",
       "      <th>birthyear</th>\n",
       "      <th>Rounds</th>\n",
       "      <th>Fairway Percentage</th>\n",
       "      <th>Year</th>\n",
       "      <th>Avg Distance</th>\n",
       "      <th>gir</th>\n",
       "      <th>...</th>\n",
       "      <th>Average Scrambling</th>\n",
       "      <th>Average Score</th>\n",
       "      <th>Points</th>\n",
       "      <th>Top 10</th>\n",
       "      <th>Average SG Putts</th>\n",
       "      <th>Average SG Total</th>\n",
       "      <th>SG:OTT</th>\n",
       "      <th>SG:APR</th>\n",
       "      <th>SG:ARG</th>\n",
       "      <th>logmoney</th>\n",
       "    </tr>\n",
       "  </thead>\n",
       "  <tbody>\n",
       "    <tr>\n",
       "      <th>1432</th>\n",
       "      <td>5443841</td>\n",
       "      <td>Tiger Woods</td>\n",
       "      <td>73.0</td>\n",
       "      <td>185</td>\n",
       "      <td>1975</td>\n",
       "      <td>68.0</td>\n",
       "      <td>59.35</td>\n",
       "      <td>2018</td>\n",
       "      <td>303.6</td>\n",
       "      <td>67.40</td>\n",
       "      <td>...</td>\n",
       "      <td>64.16</td>\n",
       "      <td>69.350</td>\n",
       "      <td>1162</td>\n",
       "      <td>5.0</td>\n",
       "      <td>0.266</td>\n",
       "      <td>1.596</td>\n",
       "      <td>0.061</td>\n",
       "      <td>0.883</td>\n",
       "      <td>0.385</td>\n",
       "      <td>15.509995</td>\n",
       "    </tr>\n",
       "    <tr>\n",
       "      <th>1433</th>\n",
       "      <td>8553439</td>\n",
       "      <td>Tiger Woods</td>\n",
       "      <td>73.0</td>\n",
       "      <td>185</td>\n",
       "      <td>1975</td>\n",
       "      <td>61.0</td>\n",
       "      <td>62.50</td>\n",
       "      <td>2013</td>\n",
       "      <td>293.2</td>\n",
       "      <td>67.59</td>\n",
       "      <td>...</td>\n",
       "      <td>60.00</td>\n",
       "      <td>68.944</td>\n",
       "      <td>3059</td>\n",
       "      <td>7.0</td>\n",
       "      <td>0.426</td>\n",
       "      <td>2.064</td>\n",
       "      <td>-0.142</td>\n",
       "      <td>1.533</td>\n",
       "      <td>0.247</td>\n",
       "      <td>15.961844</td>\n",
       "    </tr>\n",
       "    <tr>\n",
       "      <th>1434</th>\n",
       "      <td>6133158</td>\n",
       "      <td>Tiger Woods</td>\n",
       "      <td>73.0</td>\n",
       "      <td>185</td>\n",
       "      <td>1975</td>\n",
       "      <td>69.0</td>\n",
       "      <td>63.93</td>\n",
       "      <td>2012</td>\n",
       "      <td>297.4</td>\n",
       "      <td>67.58</td>\n",
       "      <td>...</td>\n",
       "      <td>63.17</td>\n",
       "      <td>68.904</td>\n",
       "      <td>2269</td>\n",
       "      <td>6.0</td>\n",
       "      <td>0.339</td>\n",
       "      <td>2.310</td>\n",
       "      <td>0.553</td>\n",
       "      <td>1.224</td>\n",
       "      <td>0.194</td>\n",
       "      <td>15.629220</td>\n",
       "    </tr>\n",
       "  </tbody>\n",
       "</table>\n",
       "<p>3 rows × 21 columns</p>\n",
       "</div>"
      ],
      "text/plain": [
       "        money         name  height_inches  weight_lbs  birthyear  Rounds  \\\n",
       "1432  5443841  Tiger Woods           73.0         185       1975    68.0   \n",
       "1433  8553439  Tiger Woods           73.0         185       1975    61.0   \n",
       "1434  6133158  Tiger Woods           73.0         185       1975    69.0   \n",
       "\n",
       "      Fairway Percentage  Year  Avg Distance    gir  ...  Average Scrambling  \\\n",
       "1432               59.35  2018         303.6  67.40  ...               64.16   \n",
       "1433               62.50  2013         293.2  67.59  ...               60.00   \n",
       "1434               63.93  2012         297.4  67.58  ...               63.17   \n",
       "\n",
       "      Average Score  Points  Top 10  Average SG Putts  Average SG Total  \\\n",
       "1432         69.350    1162     5.0             0.266             1.596   \n",
       "1433         68.944    3059     7.0             0.426             2.064   \n",
       "1434         68.904    2269     6.0             0.339             2.310   \n",
       "\n",
       "      SG:OTT  SG:APR  SG:ARG   logmoney  \n",
       "1432   0.061   0.883   0.385  15.509995  \n",
       "1433  -0.142   1.533   0.247  15.961844  \n",
       "1434   0.553   1.224   0.194  15.629220  \n",
       "\n",
       "[3 rows x 21 columns]"
      ]
     },
     "execution_count": 17,
     "metadata": {},
     "output_type": "execute_result"
    }
   ],
   "source": [
    "g.loc[g['name']=='Tiger Woods']"
   ]
  },
  {
   "cell_type": "markdown",
   "metadata": {},
   "source": [
    "***\n",
    "Reduce terms in degree 2 poly model"
   ]
  },
  {
   "cell_type": "code",
   "execution_count": 20,
   "metadata": {},
   "outputs": [
    {
     "name": "stdout",
     "output_type": "stream",
     "text": [
      "Degree 2 polynomial regression train R^2: 0.784 +- 0.007\n",
      "Degree 2 polynomial regression cv R^2: 0.710 +- 0.025\n",
      "Degree 2 polynomial regression rmse:  0.49010910941848573\n"
     ]
    }
   ],
   "source": [
    "X, y = g_small.drop(['logmoney','money'], axis=1), g_small['logmoney']\n",
    "\n",
    "X, X_test, y, y_test = train_test_split(X, y, test_size=.2, random_state=1)\n",
    "\n",
    "X, y = np.array(X), np.array(y)\n",
    "\n",
    "\n",
    "kf = KFold(n_splits=5, shuffle=True, random_state = 10)\n",
    "cv_poly_r2s = []\n",
    "poly_train = []\n",
    "\n",
    "for train_ind, val_ind in kf.split(X,y):\n",
    "        \n",
    "    X_train, y_train = X[train_ind], y[train_ind]\n",
    "    X_val, y_val = X[val_ind], y[val_ind] \n",
    "    \n",
    "    poly = PolynomialFeatures(degree=2)\n",
    "    \n",
    "    scaler = StandardScaler()\n",
    "    X_train_scaled = scaler.fit_transform(X_train)\n",
    "    X_val_scaled = scaler.transform(X_val)\n",
    "    \n",
    "    X_train_poly_scaled = poly.fit_transform(X_train_scaled)\n",
    "    X_val_poly_scaled = poly.transform(X_val_scaled)\n",
    "    \n",
    "    lm_poly = LinearRegression()\n",
    "    lm_poly.fit(X_train_poly_scaled, y_train)\n",
    "    cv_poly_r2s.append(lm_poly.score(X_val_poly_scaled, y_val))\n",
    "    poly_train.append(lm_poly.score(X_train_poly_scaled, y_train))\n",
    "\n",
    "print(f'Degree 2 polynomial regression train R^2: {np.mean(poly_train):.3f} +- {np.std(poly_train):.3f}')\n",
    "print(f'Degree 2 polynomial regression cv R^2: {np.mean(cv_poly_r2s):.3f} +- {np.std(cv_poly_r2s):.3f}')\n",
    "print('Degree 2 polynomial regression rmse: ', math.sqrt(mean_squared_error(y_val, lm_poly.predict(X_val_poly_scaled))))"
   ]
  },
  {
   "cell_type": "code",
   "execution_count": 21,
   "metadata": {},
   "outputs": [
    {
     "data": {
      "text/plain": [
       "[('1', 0.0),\n",
       " ('x0', -0.01528619961194311),\n",
       " ('x1', -0.0),\n",
       " ('x2', 0.03663222718300838),\n",
       " ('x3', 0.19371591815142958),\n",
       " ('x4', 0.0),\n",
       " ('x5', 0.0),\n",
       " ('x6', -0.0329487302639992),\n",
       " ('x7', -0.1383131585032631),\n",
       " ('x8', -0.1076903109675584),\n",
       " ('x9', 0.27813556764960595),\n",
       " ('x10', 0.4452059193691335),\n",
       " ('x11', 0.3986646652478496),\n",
       " ('x12', 0.20632283016575467),\n",
       " ('x0^2', -0.004655580712305553),\n",
       " ('x0 x1', -0.0),\n",
       " ('x0 x2', -0.0),\n",
       " ('x0 x3', 0.0),\n",
       " ('x0 x4', -0.0),\n",
       " ('x0 x5', 0.0),\n",
       " ('x0 x6', -0.0),\n",
       " ('x0 x7', -0.0),\n",
       " ('x0 x8', -0.017111564983634298),\n",
       " ('x0 x9', 0.0),\n",
       " ('x0 x10', -0.0),\n",
       " ('x0 x11', -0.0),\n",
       " ('x0 x12', 0.014719381266388148),\n",
       " ('x1^2', -0.009114298137724358),\n",
       " ('x1 x2', 0.007798337506277209),\n",
       " ('x1 x3', 0.0),\n",
       " ('x1 x4', -0.005077554851370292),\n",
       " ('x1 x5', 0.0),\n",
       " ('x1 x6', -0.0),\n",
       " ('x1 x7', 0.0),\n",
       " ('x1 x8', -0.0),\n",
       " ('x1 x9', -0.00916356831995398),\n",
       " ('x1 x10', -0.0),\n",
       " ('x1 x11', -0.0),\n",
       " ('x1 x12', 0.00045921838047758705),\n",
       " ('x2^2', -0.007929741012289456),\n",
       " ('x2 x3', 0.0),\n",
       " ('x2 x4', 0.0),\n",
       " ('x2 x5', 0.0),\n",
       " ('x2 x6', 0.0),\n",
       " ('x2 x7', 0.0),\n",
       " ('x2 x8', 0.0),\n",
       " ('x2 x9', 0.013214665702466748),\n",
       " ('x2 x10', 0.00018144367933157723),\n",
       " ('x2 x11', -0.012101180652448936),\n",
       " ('x2 x12', -0.0),\n",
       " ('x3^2', -0.028699910056408744),\n",
       " ('x3 x4', 0.0),\n",
       " ('x3 x5', -0.0),\n",
       " ('x3 x6', 0.0),\n",
       " ('x3 x7', 0.0),\n",
       " ('x3 x8', -0.0008825642642410987),\n",
       " ('x3 x9', -0.0),\n",
       " ('x3 x10', -0.005275747300308488),\n",
       " ('x3 x11', -0.01806183071286987),\n",
       " ('x3 x12', -0.0),\n",
       " ('x4^2', -0.0),\n",
       " ('x4 x5', -0.0),\n",
       " ('x4 x6', 0.012354777878586501),\n",
       " ('x4 x7', 0.0),\n",
       " ('x4 x8', -0.0),\n",
       " ('x4 x9', 0.0),\n",
       " ('x4 x10', -0.0),\n",
       " ('x4 x11', 0.019720959731767265),\n",
       " ('x4 x12', 0.0),\n",
       " ('x5^2', 0.003509110285746196),\n",
       " ('x5 x6', 0.0),\n",
       " ('x5 x7', 0.0),\n",
       " ('x5 x8', 0.0),\n",
       " ('x5 x9', -0.0),\n",
       " ('x5 x10', 0.0),\n",
       " ('x5 x11', -0.0),\n",
       " ('x5 x12', -0.0),\n",
       " ('x6^2', 0.0),\n",
       " ('x6 x7', -0.0),\n",
       " ('x6 x8', -0.0),\n",
       " ('x6 x9', 0.021232055542582434),\n",
       " ('x6 x10', 0.0),\n",
       " ('x6 x11', 0.0),\n",
       " ('x6 x12', 0.018645980050536543),\n",
       " ('x7^2', -0.0),\n",
       " ('x7 x8', -0.0),\n",
       " ('x7 x9', 0.0),\n",
       " ('x7 x10', 0.00232070254454835),\n",
       " ('x7 x11', 0.0),\n",
       " ('x7 x12', -0.0),\n",
       " ('x8^2', 0.0006790352641693676),\n",
       " ('x8 x9', 0.0),\n",
       " ('x8 x10', 0.0),\n",
       " ('x8 x11', 0.0),\n",
       " ('x8 x12', 0.0029861456102629642),\n",
       " ('x9^2', -0.013117770480167585),\n",
       " ('x9 x10', -0.032572635693051084),\n",
       " ('x9 x11', 0.0),\n",
       " ('x9 x12', 0.017414939718277105),\n",
       " ('x10^2', 0.011865158560790491),\n",
       " ('x10 x11', 0.008343239304871112),\n",
       " ('x10 x12', 0.016271334793632516),\n",
       " ('x11^2', 0.003828797371250966),\n",
       " ('x11 x12', 0.0),\n",
       " ('x12^2', 0.0)]"
      ]
     },
     "execution_count": 21,
     "metadata": {},
     "output_type": "execute_result"
    }
   ],
   "source": [
    "lasso_model = Lasso(alpha = .01)\n",
    "lasso_model.fit(X_train_poly_scaled, y_train)\n",
    "list(zip(poly.get_feature_names(), lasso_model.coef_))"
   ]
  },
  {
   "cell_type": "code",
   "execution_count": 22,
   "metadata": {},
   "outputs": [],
   "source": [
    "from sklearn.pipeline import Pipeline\n",
    "\n",
    "#Mean Absolute Error (MAE)\n",
    "def mae(y_true, y_pred):\n",
    "    return np.mean(np.abs(y_pred - y_true)) \n",
    "\n",
    "alphalist = 10**(np.linspace(-2,2,200))\n",
    "err_vec_val = np.zeros(len(alphalist))\n",
    "err_vec_train = np.zeros(len(alphalist))\n",
    "\n",
    "for i,curr_alpha in enumerate(alphalist):\n",
    "\n",
    "    steps = [('standardize', StandardScaler()), \n",
    "             ('lasso', Lasso(alpha = curr_alpha))]\n",
    "\n",
    "    pipe = Pipeline(steps)\n",
    "    pipe.fit(X_train_poly_scaled, y_train)\n",
    "    \n",
    "    val_set_pred = pipe.predict(X_val_poly_scaled)\n",
    "    err_vec_val[i] = mae(y_val, val_set_pred)"
   ]
  },
  {
   "cell_type": "code",
   "execution_count": 23,
   "metadata": {},
   "outputs": [
    {
     "data": {
      "text/plain": [
       "[<matplotlib.lines.Line2D at 0x7fa4bd147be0>]"
      ]
     },
     "execution_count": 23,
     "metadata": {},
     "output_type": "execute_result"
    },
    {
     "data": {
      "image/png": "[encoded data removed]",
      "text/plain": [
       "<Figure size 432x288 with 1 Axes>"
      ]
     },
     "metadata": {
      "needs_background": "light"
     },
     "output_type": "display_data"
    }
   ],
   "source": [
    "plt.plot(np.log10(alphalist), err_vec_val)"
   ]
  },
  {
   "cell_type": "code",
   "execution_count": 24,
   "metadata": {},
   "outputs": [
    {
     "data": {
      "text/plain": [
       "0.34934680940493607"
      ]
     },
     "execution_count": 24,
     "metadata": {},
     "output_type": "execute_result"
    }
   ],
   "source": [
    "np.min(err_vec_val)"
   ]
  },
  {
   "cell_type": "code",
   "execution_count": 25,
   "metadata": {},
   "outputs": [
    {
     "data": {
      "text/plain": [
       "0.01"
      ]
     },
     "execution_count": 25,
     "metadata": {},
     "output_type": "execute_result"
    }
   ],
   "source": [
    "alphalist[np.argmin(err_vec_val)]"
   ]
  },
  {
   "cell_type": "code",
   "execution_count": 26,
   "metadata": {},
   "outputs": [
    {
     "name": "stderr",
     "output_type": "stream",
     "text": [
      "/home/rob/anaconda3/lib/python3.7/site-packages/ipykernel_launcher.py:1: DataConversionWarning: Data with input dtype int64, float64 were all converted to float64 by StandardScaler.\n",
      "  \"\"\"Entry point for launching an IPython kernel.\n"
     ]
    },
    {
     "data": {
      "text/plain": [
       "0.745075670022143"
      ]
     },
     "execution_count": 26,
     "metadata": {},
     "output_type": "execute_result"
    }
   ],
   "source": [
    "X_test_scaled = scaler.transform(X_test)\n",
    "\n",
    "X_test_poly_scaled = poly.transform(X_test_scaled)\n",
    "\n",
    "test_set_pred = lm_poly.predict(X_test_poly_scaled)\n",
    "\n",
    "r2_score(y_test, test_set_pred)"
   ]
  },
  {
   "cell_type": "code",
   "execution_count": 27,
   "metadata": {},
   "outputs": [
    {
     "data": {
      "text/plain": [
       "LassoCV(alphas=array([1.00000e-02, 1.04737e-02, ..., 9.54772e+01, 1.00000e+02]),\n",
       "    copy_X=True, cv=5, eps=0.001, fit_intercept=True, max_iter=1000,\n",
       "    n_alphas=100, n_jobs=None, normalize=False, positive=False,\n",
       "    precompute='auto', random_state=None, selection='cyclic', tol=0.0001,\n",
       "    verbose=False)"
      ]
     },
     "execution_count": 27,
     "metadata": {},
     "output_type": "execute_result"
    }
   ],
   "source": [
    "alphavec = 10**np.linspace(-2,2,200)\n",
    "\n",
    "lasso_model = LassoCV(alphas = alphavec, cv=5)\n",
    "\n",
    "lasso_model.fit(poly.fit_transform(scaler.fit_transform(X)), y)"
   ]
  },
  {
   "cell_type": "code",
   "execution_count": 28,
   "metadata": {},
   "outputs": [
    {
     "data": {
      "text/plain": [
       "0.01"
      ]
     },
     "execution_count": 28,
     "metadata": {},
     "output_type": "execute_result"
    }
   ],
   "source": [
    "lasso_model.alpha_"
   ]
  },
  {
   "cell_type": "code",
   "execution_count": 29,
   "metadata": {},
   "outputs": [],
   "source": [
    "test_set_pred = lasso_model.predict(X_test_poly_scaled)"
   ]
  },
  {
   "cell_type": "code",
   "execution_count": 30,
   "metadata": {},
   "outputs": [
    {
     "data": {
      "text/plain": [
       "0.3513561725754567"
      ]
     },
     "execution_count": 30,
     "metadata": {},
     "output_type": "execute_result"
    }
   ],
   "source": [
    "mae(y_test, test_set_pred)"
   ]
  },
  {
   "cell_type": "code",
   "execution_count": 31,
   "metadata": {},
   "outputs": [
    {
     "data": {
      "text/plain": [
       "0.7686618892984125"
      ]
     },
     "execution_count": 31,
     "metadata": {},
     "output_type": "execute_result"
    }
   ],
   "source": [
    "r2_score(y_test, test_set_pred)"
   ]
  },
  {
   "cell_type": "code",
   "execution_count": 32,
   "metadata": {},
   "outputs": [
    {
     "data": {
      "text/plain": [
       "[('1', 0.0),\n",
       " ('x0', -0.006226269670885879),\n",
       " ('x1', -0.0),\n",
       " ('x2', 0.06692300537655588),\n",
       " ('x3', 0.1772655444216453),\n",
       " ('x4', 0.0),\n",
       " ('x5', 0.0),\n",
       " ('x6', -0.04586846614913618),\n",
       " ('x7', -0.12031708572933592),\n",
       " ('x8', -0.09128259616813046),\n",
       " ('x9', 0.2678385773315928),\n",
       " ('x10', 0.4296816242941413),\n",
       " ('x11', 0.40346523709458737),\n",
       " ('x12', 0.1962417349976883),\n",
       " ('x0^2', -0.0),\n",
       " ('x0 x1', -0.0),\n",
       " ('x0 x2', -0.00430205342604529),\n",
       " ('x0 x3', 0.0),\n",
       " ('x0 x4', -0.0029640690299523012),\n",
       " ('x0 x5', 0.0),\n",
       " ('x0 x6', 0.0),\n",
       " ('x0 x7', 0.0),\n",
       " ('x0 x8', -0.014040356078598654),\n",
       " ('x0 x9', 0.0),\n",
       " ('x0 x10', 0.0),\n",
       " ('x0 x11', -0.0),\n",
       " ('x0 x12', 0.023366333473027124),\n",
       " ('x1^2', -0.004098887479933257),\n",
       " ('x1 x2', 0.004839446149781264),\n",
       " ('x1 x3', 0.0),\n",
       " ('x1 x4', -0.012711508787517038),\n",
       " ('x1 x5', 0.0),\n",
       " ('x1 x6', 0.0),\n",
       " ('x1 x7', 0.0),\n",
       " ('x1 x8', -0.007214360053488897),\n",
       " ('x1 x9', -0.00041896836272491876),\n",
       " ('x1 x10', -0.0),\n",
       " ('x1 x11', -0.004196126976010474),\n",
       " ('x1 x12', 0.006651894002764524),\n",
       " ('x2^2', -0.0),\n",
       " ('x2 x3', 0.0),\n",
       " ('x2 x4', -0.0),\n",
       " ('x2 x5', 0.0),\n",
       " ('x2 x6', -0.0),\n",
       " ('x2 x7', -0.0),\n",
       " ('x2 x8', 0.0),\n",
       " ('x2 x9', 0.005978714276159404),\n",
       " ('x2 x10', 0.0),\n",
       " ('x2 x11', -0.019770126252418477),\n",
       " ('x2 x12', -0.00666989236894519),\n",
       " ('x3^2', -0.027988022467366966),\n",
       " ('x3 x4', 0.0),\n",
       " ('x3 x5', -0.0),\n",
       " ('x3 x6', -0.0),\n",
       " ('x3 x7', -0.0),\n",
       " ('x3 x8', -0.0),\n",
       " ('x3 x9', 0.0),\n",
       " ('x3 x10', -0.02011185687653456),\n",
       " ('x3 x11', -0.017931028237604854),\n",
       " ('x3 x12', -0.0),\n",
       " ('x4^2', -0.0),\n",
       " ('x4 x5', -0.0),\n",
       " ('x4 x6', 0.0),\n",
       " ('x4 x7', 0.00021993617048005325),\n",
       " ('x4 x8', -0.0021680897496940106),\n",
       " ('x4 x9', -0.0),\n",
       " ('x4 x10', -0.0),\n",
       " ('x4 x11', 0.005766924767416124),\n",
       " ('x4 x12', -0.0),\n",
       " ('x5^2', 0.005590671611711721),\n",
       " ('x5 x6', 0.0),\n",
       " ('x5 x7', -0.0),\n",
       " ('x5 x8', 0.0),\n",
       " ('x5 x9', -0.0),\n",
       " ('x5 x10', 0.0),\n",
       " ('x5 x11', -0.0),\n",
       " ('x5 x12', -0.0),\n",
       " ('x6^2', 0.01813279097203406),\n",
       " ('x6 x7', -0.0),\n",
       " ('x6 x8', -0.0),\n",
       " ('x6 x9', 0.03529151756755399),\n",
       " ('x6 x10', 0.0),\n",
       " ('x6 x11', 0.004634126549054092),\n",
       " ('x6 x12', 0.03151297227584086),\n",
       " ('x7^2', -0.0),\n",
       " ('x7 x8', -0.0),\n",
       " ('x7 x9', 0.0),\n",
       " ('x7 x10', 0.0),\n",
       " ('x7 x11', 0.0),\n",
       " ('x7 x12', -0.0),\n",
       " ('x8^2', 0.0),\n",
       " ('x8 x9', -0.0),\n",
       " ('x8 x10', 0.0),\n",
       " ('x8 x11', 0.0005315741286616178),\n",
       " ('x8 x12', 0.01259722667905278),\n",
       " ('x9^2', -0.011664483268547724),\n",
       " ('x9 x10', -0.03241356432275026),\n",
       " ('x9 x11', 0.0),\n",
       " ('x9 x12', 0.01628108647180675),\n",
       " ('x10^2', 0.010373002661100372),\n",
       " ('x10 x11', 0.0063274907776071105),\n",
       " ('x10 x12', 0.0),\n",
       " ('x11^2', 0.0),\n",
       " ('x11 x12', 0.0),\n",
       " ('x12^2', 0.002149539388252576)]"
      ]
     },
     "execution_count": 32,
     "metadata": {},
     "output_type": "execute_result"
    }
   ],
   "source": [
    "list(zip(poly.get_feature_names(), lasso_model.coef_))"
   ]
  },
  {
   "cell_type": "markdown",
   "metadata": {},
   "source": [
    "***\n",
    "**Run lasso on poly2 for final model**"
   ]
  },
  {
   "cell_type": "code",
   "execution_count": 33,
   "metadata": {},
   "outputs": [
    {
     "name": "stdout",
     "output_type": "stream",
     "text": [
      "Degree 2 polynomial regression train R^2: 0.749\n",
      "Degree 2 polynomial regression test R^2: 0.765\n",
      "Degree 2 polynomial regression rmse:  0.42919020404003283\n"
     ]
    },
    {
     "name": "stderr",
     "output_type": "stream",
     "text": [
      "/home/rob/anaconda3/lib/python3.7/site-packages/sklearn/linear_model/coordinate_descent.py:492: ConvergenceWarning: Objective did not converge. You might want to increase the number of iterations. Fitting data with very small alpha may cause precision problems.\n",
      "  ConvergenceWarning)\n"
     ]
    }
   ],
   "source": [
    "X, y = g_small.drop(['logmoney','money'], axis=1), g_small['logmoney']\n",
    "\n",
    "X, X_test, y, y_test = train_test_split(X, y, test_size=.2, random_state=42)\n",
    "\n",
    "X, y = np.array(X), np.array(y)\n",
    "\n",
    "poly = PolynomialFeatures(degree=2)\n",
    "    \n",
    "scaler = StandardScaler()\n",
    "\n",
    "X_poly = poly.fit_transform(X)\n",
    "X_test_poly = poly.transform(X_test)\n",
    "\n",
    "X_poly_scaled = scaler.fit_transform(X_poly)\n",
    "X_test_poly_scaled = scaler.transform(X_test_poly)\n",
    "\n",
    "lasso_model = Lasso(alpha = .01)\n",
    "lasso_model.fit(X_poly_scaled, y)\n",
    "\n",
    "\n",
    "print(f'Degree 2 polynomial regression train R^2: {lasso_model.score(X_poly_scaled, y):.3f}')\n",
    "print(f'Degree 2 polynomial regression test R^2: {lasso_model.score(X_test_poly_scaled, y_test):.3f}')\n",
    "print('Degree 2 polynomial regression rmse: ', math.sqrt(mean_squared_error(y_test, lasso_model.predict(X_test_poly_scaled))))"
   ]
  },
  {
   "cell_type": "code",
   "execution_count": 49,
   "metadata": {},
   "outputs": [
    {
     "data": {
      "text/html": [
       "<div>\n",
       "<style scoped>\n",
       "    .dataframe tbody tr th:only-of-type {\n",
       "        vertical-align: middle;\n",
       "    }\n",
       "\n",
       "    .dataframe tbody tr th {\n",
       "        vertical-align: top;\n",
       "    }\n",
       "\n",
       "    .dataframe thead th {\n",
       "        text-align: right;\n",
       "    }\n",
       "</style>\n",
       "<table border=\"1\" class=\"dataframe\">\n",
       "  <thead>\n",
       "    <tr style=\"text-align: right;\">\n",
       "      <th></th>\n",
       "      <th>money</th>\n",
       "      <th>name</th>\n",
       "      <th>height_inches</th>\n",
       "      <th>weight_lbs</th>\n",
       "      <th>birthyear</th>\n",
       "      <th>Rounds</th>\n",
       "      <th>Fairway Percentage</th>\n",
       "      <th>Year</th>\n",
       "      <th>Avg Distance</th>\n",
       "      <th>gir</th>\n",
       "      <th>...</th>\n",
       "      <th>Average Scrambling</th>\n",
       "      <th>Average Score</th>\n",
       "      <th>Points</th>\n",
       "      <th>Top 10</th>\n",
       "      <th>Average SG Putts</th>\n",
       "      <th>Average SG Total</th>\n",
       "      <th>SG:OTT</th>\n",
       "      <th>SG:APR</th>\n",
       "      <th>SG:ARG</th>\n",
       "      <th>logmoney</th>\n",
       "    </tr>\n",
       "  </thead>\n",
       "  <tbody>\n",
       "    <tr>\n",
       "      <th>1145</th>\n",
       "      <td>2793536</td>\n",
       "      <td>Jordan Spieth</td>\n",
       "      <td>73.0</td>\n",
       "      <td>175</td>\n",
       "      <td>1993</td>\n",
       "      <td>81.0</td>\n",
       "      <td>61.55</td>\n",
       "      <td>2018</td>\n",
       "      <td>299.8</td>\n",
       "      <td>70.47</td>\n",
       "      <td>...</td>\n",
       "      <td>61.63</td>\n",
       "      <td>69.904</td>\n",
       "      <td>945</td>\n",
       "      <td>5.0</td>\n",
       "      <td>-0.034</td>\n",
       "      <td>0.830</td>\n",
       "      <td>0.271</td>\n",
       "      <td>0.409</td>\n",
       "      <td>0.184</td>\n",
       "      <td>14.842819</td>\n",
       "    </tr>\n",
       "    <tr>\n",
       "      <th>1146</th>\n",
       "      <td>9433033</td>\n",
       "      <td>Jordan Spieth</td>\n",
       "      <td>73.0</td>\n",
       "      <td>175</td>\n",
       "      <td>1993</td>\n",
       "      <td>85.0</td>\n",
       "      <td>59.48</td>\n",
       "      <td>2017</td>\n",
       "      <td>295.0</td>\n",
       "      <td>69.97</td>\n",
       "      <td>...</td>\n",
       "      <td>61.75</td>\n",
       "      <td>68.846</td>\n",
       "      <td>2671</td>\n",
       "      <td>8.0</td>\n",
       "      <td>0.278</td>\n",
       "      <td>1.988</td>\n",
       "      <td>0.321</td>\n",
       "      <td>0.896</td>\n",
       "      <td>0.429</td>\n",
       "      <td>16.059728</td>\n",
       "    </tr>\n",
       "    <tr>\n",
       "      <th>1147</th>\n",
       "      <td>5538470</td>\n",
       "      <td>Jordan Spieth</td>\n",
       "      <td>73.0</td>\n",
       "      <td>175</td>\n",
       "      <td>1993</td>\n",
       "      <td>80.0</td>\n",
       "      <td>58.14</td>\n",
       "      <td>2016</td>\n",
       "      <td>295.4</td>\n",
       "      <td>63.52</td>\n",
       "      <td>...</td>\n",
       "      <td>63.93</td>\n",
       "      <td>69.520</td>\n",
       "      <td>1965</td>\n",
       "      <td>6.0</td>\n",
       "      <td>0.758</td>\n",
       "      <td>1.569</td>\n",
       "      <td>0.402</td>\n",
       "      <td>0.145</td>\n",
       "      <td>0.264</td>\n",
       "      <td>15.527229</td>\n",
       "    </tr>\n",
       "    <tr>\n",
       "      <th>1148</th>\n",
       "      <td>12030465</td>\n",
       "      <td>Jordan Spieth</td>\n",
       "      <td>73.0</td>\n",
       "      <td>175</td>\n",
       "      <td>1993</td>\n",
       "      <td>91.0</td>\n",
       "      <td>62.91</td>\n",
       "      <td>2015</td>\n",
       "      <td>291.8</td>\n",
       "      <td>67.87</td>\n",
       "      <td>...</td>\n",
       "      <td>65.03</td>\n",
       "      <td>68.938</td>\n",
       "      <td>4169</td>\n",
       "      <td>14.0</td>\n",
       "      <td>0.571</td>\n",
       "      <td>2.154</td>\n",
       "      <td>0.494</td>\n",
       "      <td>0.618</td>\n",
       "      <td>0.471</td>\n",
       "      <td>16.302953</td>\n",
       "    </tr>\n",
       "    <tr>\n",
       "      <th>1149</th>\n",
       "      <td>4342748</td>\n",
       "      <td>Jordan Spieth</td>\n",
       "      <td>73.0</td>\n",
       "      <td>175</td>\n",
       "      <td>1993</td>\n",
       "      <td>102.0</td>\n",
       "      <td>58.79</td>\n",
       "      <td>2014</td>\n",
       "      <td>289.7</td>\n",
       "      <td>62.47</td>\n",
       "      <td>...</td>\n",
       "      <td>62.39</td>\n",
       "      <td>69.946</td>\n",
       "      <td>1692</td>\n",
       "      <td>7.0</td>\n",
       "      <td>0.399</td>\n",
       "      <td>0.980</td>\n",
       "      <td>0.034</td>\n",
       "      <td>0.286</td>\n",
       "      <td>0.260</td>\n",
       "      <td>15.284018</td>\n",
       "    </tr>\n",
       "    <tr>\n",
       "      <th>1150</th>\n",
       "      <td>3879820</td>\n",
       "      <td>Jordan Spieth</td>\n",
       "      <td>73.0</td>\n",
       "      <td>175</td>\n",
       "      <td>1993</td>\n",
       "      <td>82.0</td>\n",
       "      <td>67.80</td>\n",
       "      <td>2013</td>\n",
       "      <td>289.4</td>\n",
       "      <td>66.94</td>\n",
       "      <td>...</td>\n",
       "      <td>61.07</td>\n",
       "      <td>69.668</td>\n",
       "      <td>1436</td>\n",
       "      <td>7.0</td>\n",
       "      <td>0.182</td>\n",
       "      <td>1.473</td>\n",
       "      <td>0.611</td>\n",
       "      <td>0.480</td>\n",
       "      <td>0.200</td>\n",
       "      <td>15.171299</td>\n",
       "    </tr>\n",
       "  </tbody>\n",
       "</table>\n",
       "<p>6 rows × 21 columns</p>\n",
       "</div>"
      ],
      "text/plain": [
       "         money           name  height_inches  weight_lbs  birthyear  Rounds  \\\n",
       "1145   2793536  Jordan Spieth           73.0         175       1993    81.0   \n",
       "1146   9433033  Jordan Spieth           73.0         175       1993    85.0   \n",
       "1147   5538470  Jordan Spieth           73.0         175       1993    80.0   \n",
       "1148  12030465  Jordan Spieth           73.0         175       1993    91.0   \n",
       "1149   4342748  Jordan Spieth           73.0         175       1993   102.0   \n",
       "1150   3879820  Jordan Spieth           73.0         175       1993    82.0   \n",
       "\n",
       "      Fairway Percentage  Year  Avg Distance    gir  ...  Average Scrambling  \\\n",
       "1145               61.55  2018         299.8  70.47  ...               61.63   \n",
       "1146               59.48  2017         295.0  69.97  ...               61.75   \n",
       "1147               58.14  2016         295.4  63.52  ...               63.93   \n",
       "1148               62.91  2015         291.8  67.87  ...               65.03   \n",
       "1149               58.79  2014         289.7  62.47  ...               62.39   \n",
       "1150               67.80  2013         289.4  66.94  ...               61.07   \n",
       "\n",
       "      Average Score  Points  Top 10  Average SG Putts  Average SG Total  \\\n",
       "1145         69.904     945     5.0            -0.034             0.830   \n",
       "1146         68.846    2671     8.0             0.278             1.988   \n",
       "1147         69.520    1965     6.0             0.758             1.569   \n",
       "1148         68.938    4169    14.0             0.571             2.154   \n",
       "1149         69.946    1692     7.0             0.399             0.980   \n",
       "1150         69.668    1436     7.0             0.182             1.473   \n",
       "\n",
       "      SG:OTT  SG:APR  SG:ARG   logmoney  \n",
       "1145   0.271   0.409   0.184  14.842819  \n",
       "1146   0.321   0.896   0.429  16.059728  \n",
       "1147   0.402   0.145   0.264  15.527229  \n",
       "1148   0.494   0.618   0.471  16.302953  \n",
       "1149   0.034   0.286   0.260  15.284018  \n",
       "1150   0.611   0.480   0.200  15.171299  \n",
       "\n",
       "[6 rows x 21 columns]"
      ]
     },
     "execution_count": 49,
     "metadata": {},
     "output_type": "execute_result"
    }
   ],
   "source": [
    "g.loc[g['name']=='Jordan Spieth']"
   ]
  },
  {
   "cell_type": "code",
   "execution_count": 50,
   "metadata": {},
   "outputs": [
    {
     "name": "stdout",
     "output_type": "stream",
     "text": [
      "[14.571368954069442, 15.954131176838038, 15.320125201340765, 16.22627906518549, 15.230484247699984, 15.39952844771656]\n"
     ]
    }
   ],
   "source": [
    "test_input_x = scaler.transform(poly.transform(np.array(g_small.iloc[1145:1151,1:14])))\n",
    "\n",
    "pred = list(lasso_model.predict(test_input_x))\n",
    "print(pred)"
   ]
  },
  {
   "cell_type": "code",
   "execution_count": 51,
   "metadata": {},
   "outputs": [
    {
     "name": "stdout",
     "output_type": "stream",
     "text": [
      "2129438.6408833493\n",
      "8487721.747227877\n",
      "4502418.25924359\n",
      "11142520.963325817\n",
      "4116378.1615511575\n",
      "4874501.728815325\n"
     ]
    }
   ],
   "source": [
    "for x in pred:\n",
    "    print(math.exp(x))"
   ]
  },
  {
   "cell_type": "code",
   "execution_count": 52,
   "metadata": {},
   "outputs": [
    {
     "data": {
      "text/plain": [
       "1145     2793536\n",
       "1146     9433033\n",
       "1147     5538470\n",
       "1148    12030465\n",
       "1149     4342748\n",
       "1150     3879820\n",
       "Name: money, dtype: int64"
      ]
     },
     "execution_count": 52,
     "metadata": {},
     "output_type": "execute_result"
    }
   ],
   "source": [
    "g['money'].iloc[1145:1151]"
   ]
  },
  {
   "cell_type": "code",
   "execution_count": 38,
   "metadata": {},
   "outputs": [
    {
     "name": "stdout",
     "output_type": "stream",
     "text": [
      "Degree 2 polynomial regression rmse:  746917.8201932714\n"
     ]
    }
   ],
   "source": [
    "print('Degree 2 polynomial regression rmse: ', math.sqrt(mean_squared_error(np.exp(y), np.exp(lasso_model.predict(X_poly_scaled)))))"
   ]
  }
 ],
 "metadata": {
  "kernelspec": {
   "display_name": "metis",
   "language": "python",
   "name": "metis"
  },
  "language_info": {
   "codemirror_mode": {
    "name": "ipython",
    "version": 3
   },
   "file_extension": ".py",
   "mimetype": "text/x-python",
   "name": "python",
   "nbconvert_exporter": "python",
   "pygments_lexer": "ipython3",
   "version": "3.7.3"
  },
  "toc": {
   "base_numbering": 1,
   "nav_menu": {},
   "number_sections": true,
   "sideBar": true,
   "skip_h1_title": false,
   "title_cell": "Table of Contents",
   "title_sidebar": "Contents",
   "toc_cell": false,
   "toc_position": {},
   "toc_section_display": true,
   "toc_window_display": false
  },
  "varInspector": {
   "cols": {
    "lenName": 16,
    "lenType": 16,
    "lenVar": 40
   },
   "kernels_config": {
    "python": {
     "delete_cmd_postfix": "",
     "delete_cmd_prefix": "del ",
     "library": "var_list.py",
     "varRefreshCmd": "print(var_dic_list())"
    },
    "r": {
     "delete_cmd_postfix": ") ",
     "delete_cmd_prefix": "rm(",
     "library": "var_list.r",
     "varRefreshCmd": "cat(var_dic_list()) "
    }
   },
   "types_to_exclude": [
    "module",
    "function",
    "builtin_function_or_method",
    "instance",
    "_Feature"
   ],
   "window_display": false
  }
 },
 "nbformat": 4,
 "nbformat_minor": 2
}
